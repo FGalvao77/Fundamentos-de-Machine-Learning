{
  "nbformat": 4,
  "nbformat_minor": 0,
  "metadata": {
    "colab": {
      "name": "Fundamentos de Machine Learning.ipynb",
      "provenance": [],
      "collapsed_sections": [],
      "authorship_tag": "ABX9TyPYnk6+tKVpU/3TNfmV9Yn2",
      "include_colab_link": true
    },
    "kernelspec": {
      "name": "python3",
      "display_name": "Python 3"
    },
    "language_info": {
      "name": "python"
    }
  },
  "cells": [
    {
      "cell_type": "markdown",
      "metadata": {
        "id": "view-in-github",
        "colab_type": "text"
      },
      "source": [
        "<a href=\"https://colab.research.google.com/github/FGalvao77/Fundamentos-de-Machine-Learning/blob/main/Fundamentos_de_Machine_Learning.ipynb\" target=\"_parent\"><img src=\"https://colab.research.google.com/assets/colab-badge.svg\" alt=\"Open In Colab\"/></a>"
      ]
    },
    {
      "cell_type": "code",
      "metadata": {
        "id": "5xgGKGxQ3b7i"
      },
      "source": [
        "# importando a biblioteca para modelagem de dados\n",
        "import pandas as pd"
      ],
      "execution_count": null,
      "outputs": []
    },
    {
      "cell_type": "code",
      "metadata": {
        "id": "SYoslLm34bjt",
        "colab": {
          "base_uri": "https://localhost:8080/"
        },
        "outputId": "34f5ea0c-099f-4f7a-d3a4-63c1c8af1242"
      },
      "source": [
        "# instanciando os dados, utilizando a estrutura de um dicionário\n",
        "dados = {'Nome': ['Maria', 'João', 'José', 'Carlos', 'Ana'], \n",
        "         'Idade': [54, 33, 29, 48, 21], \n",
        "         'Sexo': ['F', 'M', 'M', 'M', 'F'], \n",
        "         'Temperatura': [39.0, 38.7, 35.4, 36.0, 36.5], \n",
        "         'Dores': ['Sim', 'Não', 'Sim', 'Não', 'Sim'], \n",
        "         'Diagnóstico': ['Doente', 'Saudável', 'Saudável', 'Doente', 'Doente']}\n",
        "\n",
        "# visualizando o dicionário criado\n",
        "dados"
      ],
      "execution_count": null,
      "outputs": [
        {
          "output_type": "execute_result",
          "data": {
            "text/plain": [
              "{'Diagnóstico': ['Doente', 'Saudável', 'Saudável', 'Doente', 'Doente'],\n",
              " 'Dores': ['Sim', 'Não', 'Sim', 'Não', 'Sim'],\n",
              " 'Idade': [54, 33, 29, 48, 21],\n",
              " 'Nome': ['Maria', 'João', 'José', 'Carlos', 'Ana'],\n",
              " 'Sexo': ['F', 'M', 'M', 'M', 'F'],\n",
              " 'Temperatura': [39.0, 38.7, 35.4, 36.0, 36.5]}"
            ]
          },
          "metadata": {},
          "execution_count": 18
        }
      ]
    },
    {
      "cell_type": "code",
      "metadata": {
        "colab": {
          "base_uri": "https://localhost:8080/"
        },
        "id": "38kd4VSX1g2J",
        "outputId": "23278425-752c-440a-ecf2-bd102f5ddbb6"
      },
      "source": [
        "# visualizando o tipo do objeto \"dados\"\n",
        "type (dados)"
      ],
      "execution_count": null,
      "outputs": [
        {
          "output_type": "execute_result",
          "data": {
            "text/plain": [
              "dict"
            ]
          },
          "metadata": {},
          "execution_count": 19
        }
      ]
    },
    {
      "cell_type": "code",
      "metadata": {
        "colab": {
          "base_uri": "https://localhost:8080/",
          "height": 204
        },
        "id": "3H-xxUgr36Vq",
        "outputId": "eff9840b-7ef4-4506-d8f5-58e1c0de933b"
      },
      "source": [
        "# com o objeto \"dados\" iremos criar um dafaframe com o nome de \"df\"\n",
        "df = pd.DataFrame(data=dados)\n",
        "\n",
        "# visualizando o dataframe criado\n",
        "df"
      ],
      "execution_count": null,
      "outputs": [
        {
          "output_type": "execute_result",
          "data": {
            "text/html": [
              "<div>\n",
              "<style scoped>\n",
              "    .dataframe tbody tr th:only-of-type {\n",
              "        vertical-align: middle;\n",
              "    }\n",
              "\n",
              "    .dataframe tbody tr th {\n",
              "        vertical-align: top;\n",
              "    }\n",
              "\n",
              "    .dataframe thead th {\n",
              "        text-align: right;\n",
              "    }\n",
              "</style>\n",
              "<table border=\"1\" class=\"dataframe\">\n",
              "  <thead>\n",
              "    <tr style=\"text-align: right;\">\n",
              "      <th></th>\n",
              "      <th>Nome</th>\n",
              "      <th>Idade</th>\n",
              "      <th>Sexo</th>\n",
              "      <th>Temperatura</th>\n",
              "      <th>Dores</th>\n",
              "      <th>Diagnóstico</th>\n",
              "    </tr>\n",
              "  </thead>\n",
              "  <tbody>\n",
              "    <tr>\n",
              "      <th>0</th>\n",
              "      <td>Maria</td>\n",
              "      <td>54</td>\n",
              "      <td>F</td>\n",
              "      <td>39.0</td>\n",
              "      <td>Sim</td>\n",
              "      <td>Doente</td>\n",
              "    </tr>\n",
              "    <tr>\n",
              "      <th>1</th>\n",
              "      <td>João</td>\n",
              "      <td>33</td>\n",
              "      <td>M</td>\n",
              "      <td>38.7</td>\n",
              "      <td>Não</td>\n",
              "      <td>Saudável</td>\n",
              "    </tr>\n",
              "    <tr>\n",
              "      <th>2</th>\n",
              "      <td>José</td>\n",
              "      <td>29</td>\n",
              "      <td>M</td>\n",
              "      <td>35.4</td>\n",
              "      <td>Sim</td>\n",
              "      <td>Saudável</td>\n",
              "    </tr>\n",
              "    <tr>\n",
              "      <th>3</th>\n",
              "      <td>Carlos</td>\n",
              "      <td>48</td>\n",
              "      <td>M</td>\n",
              "      <td>36.0</td>\n",
              "      <td>Não</td>\n",
              "      <td>Doente</td>\n",
              "    </tr>\n",
              "    <tr>\n",
              "      <th>4</th>\n",
              "      <td>Ana</td>\n",
              "      <td>21</td>\n",
              "      <td>F</td>\n",
              "      <td>36.5</td>\n",
              "      <td>Sim</td>\n",
              "      <td>Doente</td>\n",
              "    </tr>\n",
              "  </tbody>\n",
              "</table>\n",
              "</div>"
            ],
            "text/plain": [
              "     Nome  Idade Sexo  Temperatura Dores Diagnóstico\n",
              "0   Maria     54    F         39.0   Sim      Doente\n",
              "1    João     33    M         38.7   Não    Saudável\n",
              "2    José     29    M         35.4   Sim    Saudável\n",
              "3  Carlos     48    M         36.0   Não      Doente\n",
              "4     Ana     21    F         36.5   Sim      Doente"
            ]
          },
          "metadata": {},
          "execution_count": 20
        }
      ]
    },
    {
      "cell_type": "code",
      "metadata": {
        "colab": {
          "base_uri": "https://localhost:8080/"
        },
        "id": "88fsTZH-18zn",
        "outputId": "8446e57b-ca19-46f8-fa9e-85ebedc5eec7"
      },
      "source": [
        "# visualizando o tipo do obejto \"df\"\n",
        "type (df)"
      ],
      "execution_count": null,
      "outputs": [
        {
          "output_type": "execute_result",
          "data": {
            "text/plain": [
              "pandas.core.frame.DataFrame"
            ]
          },
          "metadata": {},
          "execution_count": 21
        }
      ]
    },
    {
      "cell_type": "code",
      "metadata": {
        "colab": {
          "base_uri": "https://localhost:8080/",
          "height": 111
        },
        "id": "bG5J5unB36TE",
        "outputId": "ff580515-5ea5-4163-8dde-13071bd4e701"
      },
      "source": [
        "# estatísticas descritivas\n",
        "df.describe().T"
      ],
      "execution_count": null,
      "outputs": [
        {
          "output_type": "execute_result",
          "data": {
            "text/html": [
              "<div>\n",
              "<style scoped>\n",
              "    .dataframe tbody tr th:only-of-type {\n",
              "        vertical-align: middle;\n",
              "    }\n",
              "\n",
              "    .dataframe tbody tr th {\n",
              "        vertical-align: top;\n",
              "    }\n",
              "\n",
              "    .dataframe thead th {\n",
              "        text-align: right;\n",
              "    }\n",
              "</style>\n",
              "<table border=\"1\" class=\"dataframe\">\n",
              "  <thead>\n",
              "    <tr style=\"text-align: right;\">\n",
              "      <th></th>\n",
              "      <th>count</th>\n",
              "      <th>mean</th>\n",
              "      <th>std</th>\n",
              "      <th>min</th>\n",
              "      <th>25%</th>\n",
              "      <th>50%</th>\n",
              "      <th>75%</th>\n",
              "      <th>max</th>\n",
              "    </tr>\n",
              "  </thead>\n",
              "  <tbody>\n",
              "    <tr>\n",
              "      <th>Idade</th>\n",
              "      <td>5.0</td>\n",
              "      <td>37.00</td>\n",
              "      <td>13.656500</td>\n",
              "      <td>21.0</td>\n",
              "      <td>29.0</td>\n",
              "      <td>33.0</td>\n",
              "      <td>48.0</td>\n",
              "      <td>54.0</td>\n",
              "    </tr>\n",
              "    <tr>\n",
              "      <th>Temperatura</th>\n",
              "      <td>5.0</td>\n",
              "      <td>37.12</td>\n",
              "      <td>1.630031</td>\n",
              "      <td>35.4</td>\n",
              "      <td>36.0</td>\n",
              "      <td>36.5</td>\n",
              "      <td>38.7</td>\n",
              "      <td>39.0</td>\n",
              "    </tr>\n",
              "  </tbody>\n",
              "</table>\n",
              "</div>"
            ],
            "text/plain": [
              "             count   mean        std   min   25%   50%   75%   max\n",
              "Idade          5.0  37.00  13.656500  21.0  29.0  33.0  48.0  54.0\n",
              "Temperatura    5.0  37.12   1.630031  35.4  36.0  36.5  38.7  39.0"
            ]
          },
          "metadata": {},
          "execution_count": 22
        }
      ]
    },
    {
      "cell_type": "code",
      "metadata": {
        "colab": {
          "base_uri": "https://localhost:8080/",
          "height": 173
        },
        "id": "x5b4szWY36QN",
        "outputId": "80673664-4b18-4fb2-d62a-cc250a3c7f15"
      },
      "source": [
        "# visualizando a ocorrência e suas respectivas frequências de dados do tipo \"object\"\n",
        "df.describe(include='O')"
      ],
      "execution_count": null,
      "outputs": [
        {
          "output_type": "execute_result",
          "data": {
            "text/html": [
              "<div>\n",
              "<style scoped>\n",
              "    .dataframe tbody tr th:only-of-type {\n",
              "        vertical-align: middle;\n",
              "    }\n",
              "\n",
              "    .dataframe tbody tr th {\n",
              "        vertical-align: top;\n",
              "    }\n",
              "\n",
              "    .dataframe thead th {\n",
              "        text-align: right;\n",
              "    }\n",
              "</style>\n",
              "<table border=\"1\" class=\"dataframe\">\n",
              "  <thead>\n",
              "    <tr style=\"text-align: right;\">\n",
              "      <th></th>\n",
              "      <th>Nome</th>\n",
              "      <th>Sexo</th>\n",
              "      <th>Dores</th>\n",
              "      <th>Diagnóstico</th>\n",
              "    </tr>\n",
              "  </thead>\n",
              "  <tbody>\n",
              "    <tr>\n",
              "      <th>count</th>\n",
              "      <td>5</td>\n",
              "      <td>5</td>\n",
              "      <td>5</td>\n",
              "      <td>5</td>\n",
              "    </tr>\n",
              "    <tr>\n",
              "      <th>unique</th>\n",
              "      <td>5</td>\n",
              "      <td>2</td>\n",
              "      <td>2</td>\n",
              "      <td>2</td>\n",
              "    </tr>\n",
              "    <tr>\n",
              "      <th>top</th>\n",
              "      <td>José</td>\n",
              "      <td>M</td>\n",
              "      <td>Sim</td>\n",
              "      <td>Doente</td>\n",
              "    </tr>\n",
              "    <tr>\n",
              "      <th>freq</th>\n",
              "      <td>1</td>\n",
              "      <td>3</td>\n",
              "      <td>3</td>\n",
              "      <td>3</td>\n",
              "    </tr>\n",
              "  </tbody>\n",
              "</table>\n",
              "</div>"
            ],
            "text/plain": [
              "        Nome Sexo Dores Diagnóstico\n",
              "count      5    5     5           5\n",
              "unique     5    2     2           2\n",
              "top     José    M   Sim      Doente\n",
              "freq       1    3     3           3"
            ]
          },
          "metadata": {},
          "execution_count": 24
        }
      ]
    },
    {
      "cell_type": "code",
      "metadata": {
        "colab": {
          "base_uri": "https://localhost:8080/",
          "height": 111
        },
        "id": "fj-mZtoA36M4",
        "outputId": "e02769c7-d577-4cf5-d157-01626032fd53"
      },
      "source": [
        "# visualizando a correlação entre as variáveis numéricas\n",
        "df.corr()"
      ],
      "execution_count": null,
      "outputs": [
        {
          "output_type": "execute_result",
          "data": {
            "text/html": [
              "<div>\n",
              "<style scoped>\n",
              "    .dataframe tbody tr th:only-of-type {\n",
              "        vertical-align: middle;\n",
              "    }\n",
              "\n",
              "    .dataframe tbody tr th {\n",
              "        vertical-align: top;\n",
              "    }\n",
              "\n",
              "    .dataframe thead th {\n",
              "        text-align: right;\n",
              "    }\n",
              "</style>\n",
              "<table border=\"1\" class=\"dataframe\">\n",
              "  <thead>\n",
              "    <tr style=\"text-align: right;\">\n",
              "      <th></th>\n",
              "      <th>Idade</th>\n",
              "      <th>Temperatura</th>\n",
              "    </tr>\n",
              "  </thead>\n",
              "  <tbody>\n",
              "    <tr>\n",
              "      <th>Idade</th>\n",
              "      <td>1.000000</td>\n",
              "      <td>0.415534</td>\n",
              "    </tr>\n",
              "    <tr>\n",
              "      <th>Temperatura</th>\n",
              "      <td>0.415534</td>\n",
              "      <td>1.000000</td>\n",
              "    </tr>\n",
              "  </tbody>\n",
              "</table>\n",
              "</div>"
            ],
            "text/plain": [
              "                Idade  Temperatura\n",
              "Idade        1.000000     0.415534\n",
              "Temperatura  0.415534     1.000000"
            ]
          },
          "metadata": {},
          "execution_count": 25
        }
      ]
    },
    {
      "cell_type": "code",
      "metadata": {
        "id": "nKO_egcQ36Kj"
      },
      "source": [
        "# criando uma cópia do dataframe para não sobreescrever o original\n",
        "df_copia = df.copy()"
      ],
      "execution_count": null,
      "outputs": []
    },
    {
      "cell_type": "code",
      "metadata": {
        "id": "u_fD-IT736Hq",
        "colab": {
          "base_uri": "https://localhost:8080/"
        },
        "outputId": "ae2b7aa3-ca7f-4d49-93d0-4f71d3e92717"
      },
      "source": [
        "# eliminando a coluna \"Nome\" do dataframe\n",
        "df_copia = df_copia.drop('Nome', axis=1)\n",
        "\n",
        "# convertendo as variáveis categóricas para variávies númericas\n",
        "for col in df_copia.select_dtypes(include='object').columns:\n",
        "  df_copia[col] = df_copia[col].astype('category')\n",
        "\n",
        "  # imprimindo o mapeamento\n",
        "  print(col, '\\t', dict(enumerate(df_copia[col].cat.categories)), end='\\n\\n')\n",
        "\n",
        "  df_copia[col] = df_copia[col].cat.codes"
      ],
      "execution_count": null,
      "outputs": [
        {
          "output_type": "stream",
          "name": "stdout",
          "text": [
            "Sexo \t {0: 'F', 1: 'M'}\n",
            "\n",
            "Dores \t {0: 'Não', 1: 'Sim'}\n",
            "\n",
            "Diagnóstico \t {0: 'Doente', 1: 'Saudável'}\n",
            "\n"
          ]
        }
      ]
    },
    {
      "cell_type": "code",
      "metadata": {
        "id": "nJpqX7l536FF",
        "colab": {
          "base_uri": "https://localhost:8080/",
          "height": 204
        },
        "outputId": "421b9c86-4a3c-4b8e-f3d6-667eb2fd88ef"
      },
      "source": [
        "# visualizando o dataframe após o tratamento das variáveis categóricas\n",
        "df_copia"
      ],
      "execution_count": null,
      "outputs": [
        {
          "output_type": "execute_result",
          "data": {
            "text/html": [
              "<div>\n",
              "<style scoped>\n",
              "    .dataframe tbody tr th:only-of-type {\n",
              "        vertical-align: middle;\n",
              "    }\n",
              "\n",
              "    .dataframe tbody tr th {\n",
              "        vertical-align: top;\n",
              "    }\n",
              "\n",
              "    .dataframe thead th {\n",
              "        text-align: right;\n",
              "    }\n",
              "</style>\n",
              "<table border=\"1\" class=\"dataframe\">\n",
              "  <thead>\n",
              "    <tr style=\"text-align: right;\">\n",
              "      <th></th>\n",
              "      <th>Idade</th>\n",
              "      <th>Sexo</th>\n",
              "      <th>Temperatura</th>\n",
              "      <th>Dores</th>\n",
              "      <th>Diagnóstico</th>\n",
              "    </tr>\n",
              "  </thead>\n",
              "  <tbody>\n",
              "    <tr>\n",
              "      <th>0</th>\n",
              "      <td>54</td>\n",
              "      <td>0</td>\n",
              "      <td>39.0</td>\n",
              "      <td>1</td>\n",
              "      <td>0</td>\n",
              "    </tr>\n",
              "    <tr>\n",
              "      <th>1</th>\n",
              "      <td>33</td>\n",
              "      <td>1</td>\n",
              "      <td>38.7</td>\n",
              "      <td>0</td>\n",
              "      <td>1</td>\n",
              "    </tr>\n",
              "    <tr>\n",
              "      <th>2</th>\n",
              "      <td>29</td>\n",
              "      <td>1</td>\n",
              "      <td>35.4</td>\n",
              "      <td>1</td>\n",
              "      <td>1</td>\n",
              "    </tr>\n",
              "    <tr>\n",
              "      <th>3</th>\n",
              "      <td>48</td>\n",
              "      <td>1</td>\n",
              "      <td>36.0</td>\n",
              "      <td>0</td>\n",
              "      <td>0</td>\n",
              "    </tr>\n",
              "    <tr>\n",
              "      <th>4</th>\n",
              "      <td>21</td>\n",
              "      <td>0</td>\n",
              "      <td>36.5</td>\n",
              "      <td>1</td>\n",
              "      <td>0</td>\n",
              "    </tr>\n",
              "  </tbody>\n",
              "</table>\n",
              "</div>"
            ],
            "text/plain": [
              "   Idade  Sexo  Temperatura  Dores  Diagnóstico\n",
              "0     54     0         39.0      1            0\n",
              "1     33     1         38.7      0            1\n",
              "2     29     1         35.4      1            1\n",
              "3     48     1         36.0      0            0\n",
              "4     21     0         36.5      1            0"
            ]
          },
          "metadata": {},
          "execution_count": 28
        }
      ]
    },
    {
      "cell_type": "code",
      "metadata": {
        "id": "zgc3o02v36Cd"
      },
      "source": [
        "# do sklearn e do módulo \"linear_model\" importando \"LinearRegression\"\n",
        "from sklearn.linear_model import LinearRegression\n",
        "\n",
        "# instanciando o modelo\n",
        "linearReg = LinearRegression()"
      ],
      "execution_count": null,
      "outputs": []
    },
    {
      "cell_type": "code",
      "metadata": {
        "id": "0faMd0KI3558",
        "colab": {
          "base_uri": "https://localhost:8080/"
        },
        "outputId": "d81c3b78-9766-4771-80a4-0f416f769dfb"
      },
      "source": [
        "# instanciando a variável explicativa - X, nesse caso utilizarei a \"Idade\"\n",
        "# e a variável resposta - y, o nosso alvo que é \"Diagnóstico\"\n",
        "\n",
        "X = df_copia['Idade'].values.reshape(-1,1) # ajustando os dados\n",
        "y = df_copia['Diagnóstico'].values.reshape(-1,1)\n",
        "\n",
        "# visualizando o tipo de dados das variáveis \"X\" e \"y\"\n",
        "type (X), type (y)"
      ],
      "execution_count": null,
      "outputs": [
        {
          "output_type": "execute_result",
          "data": {
            "text/plain": [
              "(numpy.ndarray, numpy.ndarray)"
            ]
          },
          "metadata": {},
          "execution_count": 30
        }
      ]
    },
    {
      "cell_type": "code",
      "metadata": {
        "colab": {
          "base_uri": "https://localhost:8080/"
        },
        "id": "-4AH1tsA2Exe",
        "outputId": "cb9a081a-429e-428c-c412-31e580678a2e"
      },
      "source": [
        "# visualizando os dados da variável \"X\"\n",
        "X"
      ],
      "execution_count": null,
      "outputs": [
        {
          "output_type": "execute_result",
          "data": {
            "text/plain": [
              "array([[54],\n",
              "       [33],\n",
              "       [29],\n",
              "       [48],\n",
              "       [21]])"
            ]
          },
          "metadata": {},
          "execution_count": 31
        }
      ]
    },
    {
      "cell_type": "code",
      "metadata": {
        "colab": {
          "base_uri": "https://localhost:8080/"
        },
        "id": "1fLKQxr82G5e",
        "outputId": "4276fce5-5836-4cb3-e59c-ff66abca6c64"
      },
      "source": [
        "# visualizando os dados da variável \"y\"\n",
        "y"
      ],
      "execution_count": null,
      "outputs": [
        {
          "output_type": "execute_result",
          "data": {
            "text/plain": [
              "array([[0],\n",
              "       [1],\n",
              "       [1],\n",
              "       [0],\n",
              "       [0]], dtype=int8)"
            ]
          },
          "metadata": {},
          "execution_count": 32
        }
      ]
    },
    {
      "cell_type": "code",
      "metadata": {
        "id": "MjUyaul-351F",
        "colab": {
          "base_uri": "https://localhost:8080/"
        },
        "outputId": "e3489284-6f42-4547-cb68-3fbc478932ca"
      },
      "source": [
        "# treinando o modelo aos dados\n",
        "linearReg.fit(X, y)"
      ],
      "execution_count": null,
      "outputs": [
        {
          "output_type": "execute_result",
          "data": {
            "text/plain": [
              "LinearRegression(copy_X=True, fit_intercept=True, n_jobs=None, normalize=False)"
            ]
          },
          "metadata": {},
          "execution_count": 37
        }
      ]
    },
    {
      "cell_type": "code",
      "metadata": {
        "colab": {
          "base_uri": "https://localhost:8080/"
        },
        "id": "KjMDT8JD34AQ",
        "outputId": "5057f642-7f2f-406d-e223-702f97ff6994"
      },
      "source": [
        "# realizando as predições\n",
        "y_pred = linearReg.predict(X)\n",
        "y_pred"
      ],
      "execution_count": null,
      "outputs": [
        {
          "output_type": "execute_result",
          "data": {
            "text/plain": [
              "array([[0.12654155],\n",
              "       [0.46434316],\n",
              "       [0.52868633],\n",
              "       [0.2230563 ],\n",
              "       [0.65737265]])"
            ]
          },
          "metadata": {},
          "execution_count": 38
        }
      ]
    },
    {
      "cell_type": "code",
      "metadata": {
        "id": "vpT5sh2b4FN8"
      },
      "source": [
        "# criando uma função para retornar o cálculo do erro médio quadratico\n",
        "\n",
        "def MSE(y, y_pred): # MSE - mean squared error\n",
        "    '''\n",
        "    O cálculo do erro médio quadrático se dá pelo valor real \n",
        "    da variável alvo (y) subtraindo o valor predito (y_pred)\n",
        "    elevando os resultados ao quadrado e por fim,\n",
        "    somando-os e extraindo a média dos elementos\n",
        "    '''\n",
        "    return ((y - y_pred)**2).mean()"
      ],
      "execution_count": null,
      "outputs": []
    },
    {
      "cell_type": "code",
      "metadata": {
        "colab": {
          "base_uri": "https://localhost:8080/"
        },
        "id": "my4ShTOq4qSe",
        "outputId": "08cb05c0-a161-4518-c8b2-85a76a0c84ed"
      },
      "source": [
        "# visualizando o MSE\n",
        "MSE(y = y, y_pred = y_pred)"
      ],
      "execution_count": null,
      "outputs": [
        {
          "output_type": "execute_result",
          "data": {
            "text/plain": [
              "0.2013941018766756"
            ]
          },
          "metadata": {},
          "execution_count": 56
        }
      ]
    },
    {
      "cell_type": "code",
      "metadata": {
        "colab": {
          "base_uri": "https://localhost:8080/"
        },
        "id": "Twshl8AlAnku",
        "outputId": "2ca9610f-b0e5-46f0-ad0a-67db8ce68a21"
      },
      "source": [
        "# criando uma função para calcular a raiz do erro médio quadrático\n",
        "\n",
        "def RMSE(y, y_pred):    # RMSE - root mean squared error\n",
        "    '''\n",
        "    Função para calcular a raiz do erro médio quadrático\n",
        "    '''\n",
        "    return ((y - y_pred)**2).mean() ** 0.5\n",
        "\n",
        "# visualizando o RMSE\n",
        "RMSE(y = y, y_pred = y_pred)"
      ],
      "execution_count": null,
      "outputs": [
        {
          "output_type": "execute_result",
          "data": {
            "text/plain": [
              "0.44876954205546926"
            ]
          },
          "metadata": {},
          "execution_count": 90
        }
      ]
    },
    {
      "cell_type": "code",
      "metadata": {
        "id": "Y_daiqWG254M"
      },
      "source": [
        "# para facilitar, dentro do sklearn existe já funções prontas que cálcula as métricas de avaliação \n",
        "\n",
        "# importando as métricas de avaliação\n",
        "from sklearn.metrics import mean_squared_error, r2_score "
      ],
      "execution_count": null,
      "outputs": []
    },
    {
      "cell_type": "code",
      "metadata": {
        "colab": {
          "base_uri": "https://localhost:8080/"
        },
        "id": "r7bv2Tr82k3L",
        "outputId": "5a837e8d-7397-4e31-982e-cb489494d259"
      },
      "source": [
        "# visualizando os coeficientes do modelo\n",
        "print('Coeficientes:\\n', linearReg.coef_)\n",
        "\n",
        "# visualizando o erro médio quadrático\n",
        "print('\\nErro médio quadrático:\\n', mean_squared_error(y, y_pred))\n",
        "\n",
        "# visualizando o coeficiente de determinação\n",
        "print('\\nCoeficiente de determinação:\\n', r2_score(y, y_pred))"
      ],
      "execution_count": null,
      "outputs": [
        {
          "output_type": "stream",
          "name": "stdout",
          "text": [
            "Coeficientes:\n",
            " [[-0.01608579]]\n",
            "\n",
            "Erro médio quadrático:\n",
            " 0.2013941018766756\n",
            "\n",
            "Coeficiente de determinação:\n",
            " 0.1608579088471851\n"
          ]
        }
      ]
    },
    {
      "cell_type": "code",
      "metadata": {
        "id": "eWr4oW8l2Bgv",
        "colab": {
          "base_uri": "https://localhost:8080/",
          "height": 464
        },
        "outputId": "8218fb93-6252-4440-9533-1a2c964bb18f"
      },
      "source": [
        "import matplotlib.pyplot as plt\n",
        "\n",
        "# plotando o gráfico de dispersão e a reta da regressão\n",
        "plt.figure(figsize=[16,7])\n",
        "plt.title('Modelo de regressão linear simples', \n",
        "          fontweight = 'bold', fontsize = 16)\n",
        "plt.scatter(X, y, s = 5, c = 'blue', linewidth=9)\n",
        "plt.xlabel('Idade', fontweight = 'bold', fontsize = 14)\n",
        "plt.ylabel('Diagnóstico', fontweight = 'bold', fontsize = 14)\n",
        "plt.xticks()\n",
        "\n",
        "plt.plot(X, y_pred, c = 'black', lw = 2)\n",
        "plt.grid()"
      ],
      "execution_count": null,
      "outputs": [
        {
          "output_type": "display_data",
          "data": {
            "image/png": "[encoded data removed]",
            "text/plain": [
              "<Figure size 1152x504 with 1 Axes>"
            ]
          },
          "metadata": {
            "needs_background": "light"
          }
        }
      ]
    },
    {
      "cell_type": "code",
      "metadata": {
        "id": "tcl9npEU2BH3"
      },
      "source": [
        ""
      ],
      "execution_count": null,
      "outputs": []
    },
    {
      "cell_type": "markdown",
      "metadata": {
        "id": "sPtLLVjxrmjS"
      },
      "source": [
        "# <font color='orange'>**Regressão linear**</font>\n",
        "\n",
        "---\n",
        "\n"
      ]
    },
    {
      "cell_type": "markdown",
      "metadata": {
        "id": "h3PJc5EOQac7"
      },
      "source": [
        "## <font color='green'>**diabetes**<font>"
      ]
    },
    {
      "cell_type": "code",
      "metadata": {
        "id": "DyWcQNKydOUp"
      },
      "source": [
        "# immportando as bibliotecas\n",
        "import numpy as np                                  # para modelagem de dados\n",
        "from sklearn.datasets import load_diabetes          # importando o dataset diabetes\n",
        "from sklearn.linear_model import LinearRegression   # importando a função de regressão linear\n",
        "from sklearn.metrics import (mean_squared_error,    # importando as métricas de avaliação\n",
        "                             r2_score)\n",
        "import matplotlib.pyplot as plt                     # para visualização gráfica\n",
        "\n",
        "%matplotlib inline"
      ],
      "execution_count": null,
      "outputs": []
    },
    {
      "cell_type": "code",
      "metadata": {
        "colab": {
          "base_uri": "https://localhost:8080/"
        },
        "id": "cl-Pung0dOSd",
        "outputId": "6f9b5ec2-50c9-4d11-ab5e-04ec3adf14e4"
      },
      "source": [
        "# carregando o conjunto de dados na variável \"diabetes\"\n",
        "diabetes = load_diabetes()\n",
        "\n",
        "# visualizando informações gerais sobre o conjunto de dados\n",
        "print(diabetes.DESCR)"
      ],
      "execution_count": null,
      "outputs": [
        {
          "output_type": "stream",
          "name": "stdout",
          "text": [
            ".. _diabetes_dataset:\n",
            "\n",
            "Diabetes dataset\n",
            "----------------\n",
            "\n",
            "Ten baseline variables, age, sex, body mass index, average blood\n",
            "pressure, and six blood serum measurements were obtained for each of n =\n",
            "442 diabetes patients, as well as the response of interest, a\n",
            "quantitative measure of disease progression one year after baseline.\n",
            "\n",
            "**Data Set Characteristics:**\n",
            "\n",
            "  :Number of Instances: 442\n",
            "\n",
            "  :Number of Attributes: First 10 columns are numeric predictive values\n",
            "\n",
            "  :Target: Column 11 is a quantitative measure of disease progression one year after baseline\n",
            "\n",
            "  :Attribute Information:\n",
            "      - Age\n",
            "      - Sex\n",
            "      - Body mass index\n",
            "      - Average blood pressure\n",
            "      - S1\n",
            "      - S2\n",
            "      - S3\n",
            "      - S4\n",
            "      - S5\n",
            "      - S6\n",
            "\n",
            "Note: Each of these 10 feature variables have been mean centered and scaled by the standard deviation times `n_samples` (i.e. the sum of squares of each column totals 1).\n",
            "\n",
            "Source URL:\n",
            "https://www4.stat.ncsu.edu/~boos/var.select/diabetes.html\n",
            "\n",
            "For more information see:\n",
            "Bradley Efron, Trevor Hastie, Iain Johnstone and Robert Tibshirani (2004) \"Least Angle Regression,\" Annals of Statistics (with discussion), 407-499.\n",
            "(https://web.stanford.edu/~hastie/Papers/LARS/LeastAngle_2002.pdf)\n"
          ]
        }
      ]
    },
    {
      "cell_type": "code",
      "metadata": {
        "colab": {
          "base_uri": "https://localhost:8080/"
        },
        "id": "o9xaI_FCi6oB",
        "outputId": "8bef9abd-c9d5-4b17-da27-f392017e9b41"
      },
      "source": [
        "# visualizando o target\n",
        "diabetes.target[:20]    # 20 primeiros dados"
      ],
      "execution_count": null,
      "outputs": [
        {
          "output_type": "execute_result",
          "data": {
            "text/plain": [
              "array([151.,  75., 141., 206., 135.,  97., 138.,  63., 110., 310., 101.,\n",
              "        69., 179., 185., 118., 171., 166., 144.,  97., 168.])"
            ]
          },
          "metadata": {},
          "execution_count": 434
        }
      ]
    },
    {
      "cell_type": "code",
      "metadata": {
        "id": "ZZu6stqVdOPP"
      },
      "source": [
        "# instanciando as variáveis \"X\" (explicativas) e \"y\" (alvo)\n",
        "X, y = load_diabetes(return_X_y=True)"
      ],
      "execution_count": null,
      "outputs": []
    },
    {
      "cell_type": "code",
      "metadata": {
        "id": "BMBu8KJIpPLW"
      },
      "source": [
        "# usaremos somente uma coluna, nesse caso a \"Body mass\"\n",
        "X = X[:, np.newaxis, 2]"
      ],
      "execution_count": null,
      "outputs": []
    },
    {
      "cell_type": "code",
      "metadata": {
        "colab": {
          "base_uri": "https://localhost:8080/"
        },
        "id": "DcTLLDAVhoM-",
        "outputId": "4d06f7f1-8898-4479-d4eb-ecea491a048a"
      },
      "source": [
        "# visualizando o tamanho das variáveis \"X\" e \"y\"\n",
        "X.shape, y.shape"
      ],
      "execution_count": null,
      "outputs": [
        {
          "output_type": "execute_result",
          "data": {
            "text/plain": [
              "((442, 1), (442,))"
            ]
          },
          "metadata": {},
          "execution_count": 437
        }
      ]
    },
    {
      "cell_type": "code",
      "metadata": {
        "colab": {
          "base_uri": "https://localhost:8080/"
        },
        "id": "VAtoVDObiDSj",
        "outputId": "c355f9af-1ea3-4c19-c803-636f2d77694a"
      },
      "source": [
        "# calculando 25% em relação ao total do conjunto de dados\n",
        "X.shape[0] * .25"
      ],
      "execution_count": null,
      "outputs": [
        {
          "output_type": "execute_result",
          "data": {
            "text/plain": [
              "110.5"
            ]
          },
          "metadata": {},
          "execution_count": 438
        }
      ]
    },
    {
      "cell_type": "code",
      "metadata": {
        "id": "9ib0A7o5dOMo"
      },
      "source": [
        "# dividindo as variáveis \"X\" e \"y\" em treino e teste - 25% dos dados\n",
        "X_train, X_test = X[:-110], X[-110:]\n",
        "y_train, y_test = y[:-110], y[-110:]"
      ],
      "execution_count": null,
      "outputs": []
    },
    {
      "cell_type": "code",
      "metadata": {
        "colab": {
          "base_uri": "https://localhost:8080/"
        },
        "id": "eI-MYRmXdOJR",
        "outputId": "20404ce2-32e9-4d63-c341-6b3260c40f11"
      },
      "source": [
        "# visualizando o tamanho dos conjuntos de dados de treino e teste\n",
        "X_train.shape, X_test.shape, y_train.shape, y_test.shape"
      ],
      "execution_count": null,
      "outputs": [
        {
          "output_type": "execute_result",
          "data": {
            "text/plain": [
              "((332, 1), (110, 1), (332,), (110,))"
            ]
          },
          "metadata": {},
          "execution_count": 440
        }
      ]
    },
    {
      "cell_type": "code",
      "metadata": {
        "id": "VOnByqzFgbUL"
      },
      "source": [
        "# instanciando o modelo de regressão\n",
        "regr = LinearRegression()"
      ],
      "execution_count": null,
      "outputs": []
    },
    {
      "cell_type": "code",
      "metadata": {
        "colab": {
          "base_uri": "https://localhost:8080/"
        },
        "id": "a9cPIGi7gbR7",
        "outputId": "9114493a-e979-4114-b12e-b7f7bcdd287e"
      },
      "source": [
        "# realizando o treinamento do modelo com os dados de treino\n",
        "regr.fit(X_train, y_train)"
      ],
      "execution_count": null,
      "outputs": [
        {
          "output_type": "execute_result",
          "data": {
            "text/plain": [
              "LinearRegression(copy_X=True, fit_intercept=True, n_jobs=None, normalize=False)"
            ]
          },
          "metadata": {},
          "execution_count": 442
        }
      ]
    },
    {
      "cell_type": "code",
      "metadata": {
        "id": "2Mza3YtpgbOe"
      },
      "source": [
        "# realizando as predições com o modelo treinado\n",
        "y_pred = regr.predict(X_test)"
      ],
      "execution_count": null,
      "outputs": []
    },
    {
      "cell_type": "code",
      "metadata": {
        "colab": {
          "base_uri": "https://localhost:8080/"
        },
        "id": "z0DU_8svgbL2",
        "outputId": "64da180d-148e-469b-c740-083a04cd4bed"
      },
      "source": [
        "# visualizando os coeficientes do modelo\n",
        "print('Coeficientes:\\n', regr.coef_)\n",
        "\n",
        "# visualizando o erro médio quadrático\n",
        "print('\\nErro médio quadrático:\\n', mean_squared_error(y_test, y_pred))\n",
        "\n",
        "# visualizando o coeficiente de determinação\n",
        "print('\\nCoeficiente de determinação:\\n', r2_score(y_test, y_pred))"
      ],
      "execution_count": null,
      "outputs": [
        {
          "output_type": "stream",
          "name": "stdout",
          "text": [
            "Coeficientes:\n",
            " [938.93661435]\n",
            "\n",
            "Erro médio quadrático:\n",
            " 3685.296949653315\n",
            "\n",
            "Coeficiente de determinação:\n",
            " 0.4032552778073586\n"
          ]
        }
      ]
    },
    {
      "cell_type": "code",
      "metadata": {
        "colab": {
          "base_uri": "https://localhost:8080/"
        },
        "id": "J-Z35Qp3OQED",
        "outputId": "4701821c-0e01-4996-ba76-d7fd2e262d18"
      },
      "source": [
        "# criando uma função para calcular a raiz do erro médio quadrático\n",
        "def RMSE(y_test, y_pred):\n",
        "    import numpy as np\n",
        "    return np.sqrt(np.mean((y_test - y_pred)**2))\n",
        "\n",
        "# visualizando o RMSE - raiz do erro médio quadrático\n",
        "RMSE(y_test = y_test, y_pred = y_pred)"
      ],
      "execution_count": null,
      "outputs": [
        {
          "output_type": "execute_result",
          "data": {
            "text/plain": [
              "60.70664666783461"
            ]
          },
          "metadata": {},
          "execution_count": 463
        }
      ]
    },
    {
      "cell_type": "code",
      "metadata": {
        "colab": {
          "base_uri": "https://localhost:8080/",
          "height": 537
        },
        "id": "0_Rv6A-AkcRy",
        "outputId": "ece3e949-0b73-4391-ae80-d36dc332e9ec"
      },
      "source": [
        "# plotando gráfico de dispersão\n",
        "plt.figure(figsize=(10,9))\n",
        "plt.scatter(X_test, y_test, color='green')\n",
        "plt.plot(X_test, y_pred, color='blue', linewidth=3)\n",
        "plt.xticks()\n",
        "plt.yticks()\n",
        "plt.show();"
      ],
      "execution_count": null,
      "outputs": [
        {
          "output_type": "display_data",
          "data": {
            "image/png": "[encoded data removed]",
            "text/plain": [
              "<Figure size 720x648 with 1 Axes>"
            ]
          },
          "metadata": {
            "needs_background": "light"
          }
        }
      ]
    },
    {
      "cell_type": "code",
      "metadata": {
        "id": "l0MdUhTITjSX"
      },
      "source": [
        ""
      ],
      "execution_count": null,
      "outputs": []
    },
    {
      "cell_type": "markdown",
      "metadata": {
        "id": "SmRYq28avUGW"
      },
      "source": [
        "# <font color='orange'>**Máquinas de Vetores de Suporte para classificação**</font>\n",
        "\n",
        "---\n",
        "\n"
      ]
    },
    {
      "cell_type": "markdown",
      "metadata": {
        "id": "8ID9qI1HQkJy"
      },
      "source": [
        "## <font color='green'>**iris**</font>"
      ]
    },
    {
      "cell_type": "code",
      "metadata": {
        "id": "iDjhpwr_kcPk"
      },
      "source": [
        "# importando as bibliotecas\n",
        "import numpy as np                      # para modelagem de dados\n",
        "from sklearn.datasets import load_iris  # importando o conjunto de dados\n",
        "from sklearn.svm import SVC, LinearSVC  # importando o classificador\n",
        "import matplotlib.pyplot as plt         # para visualização gráfica\n",
        "\n",
        "%matplotlib inline"
      ],
      "execution_count": null,
      "outputs": []
    },
    {
      "cell_type": "code",
      "metadata": {
        "id": "y2sPlun9kcKb"
      },
      "source": [
        "def make_meshgrid(x, y, h=.02):\n",
        "    '''\n",
        "    Criando uma função para plotar uma malha de pontos\n",
        "\n",
        "    Parâmetros:\n",
        "    - x: dados para basear a grade de malha do eixo x\n",
        "    - y: dados para basear a grade de malha do eixo y\n",
        "    - h: tamanho do passo da grade de malha (opcional)\n",
        "\n",
        "    Retorno:\n",
        "     xx, yy : ndarray\n",
        "    '''\n",
        "\n",
        "    x_min, x_max = x.min() - 1, x.max() + 1\n",
        "    y_min, y_max = y.min() - 1, y.max() + 1\n",
        "\n",
        "    xx, yy = np.meshgrid(np.arange(x_min, x_max, h), \n",
        "                         np.arange(y_min, y_max, h))\n",
        "     \n",
        "    return xx, yy"
      ],
      "execution_count": null,
      "outputs": []
    },
    {
      "cell_type": "code",
      "metadata": {
        "id": "GPTAC1MuvTky"
      },
      "source": [
        "def plot_contours(ax, clf, xx, yy, **params):\n",
        "    '''\n",
        "    Função para plotar os limites de decisão para o classificador\n",
        "\n",
        "    Parâmetros:\n",
        "    - ax: objeto dos eixos\n",
        "    - clf: classificador\n",
        "    - xx: meshgrid ndarray\n",
        "    - yy: meshgrid ndarray\n",
        "    - params: dicionário de parâmetros para passar o contourf (opcional)\n",
        "    '''\n",
        "\n",
        "    Z = clf.predict(np.c_[xx.ravel(), \n",
        "                          yy.ravel()])\n",
        "    Z = Z.reshape(xx.shape)\n",
        "    out = ax.contourf(xx, yy, Z, **params)\n",
        "\n",
        "    return out"
      ],
      "execution_count": null,
      "outputs": []
    },
    {
      "cell_type": "code",
      "metadata": {
        "colab": {
          "base_uri": "https://localhost:8080/"
        },
        "id": "RHYeZ9w_vTiE",
        "outputId": "902bbf60-43a1-4344-e89d-162cf6bdc1bb"
      },
      "source": [
        "# instanciando o conjunto de dados\n",
        "iris = load_iris()\n",
        "\n",
        "# visualizando informações gerais sobre o conjunto de dados\n",
        "print(iris.DESCR)"
      ],
      "execution_count": null,
      "outputs": [
        {
          "output_type": "stream",
          "name": "stdout",
          "text": [
            ".. _iris_dataset:\n",
            "\n",
            "Iris plants dataset\n",
            "--------------------\n",
            "\n",
            "**Data Set Characteristics:**\n",
            "\n",
            "    :Number of Instances: 150 (50 in each of three classes)\n",
            "    :Number of Attributes: 4 numeric, predictive attributes and the class\n",
            "    :Attribute Information:\n",
            "        - sepal length in cm\n",
            "        - sepal width in cm\n",
            "        - petal length in cm\n",
            "        - petal width in cm\n",
            "        - class:\n",
            "                - Iris-Setosa\n",
            "                - Iris-Versicolour\n",
            "                - Iris-Virginica\n",
            "                \n",
            "    :Summary Statistics:\n",
            "\n",
            "    ============== ==== ==== ======= ===== ====================\n",
            "                    Min  Max   Mean    SD   Class Correlation\n",
            "    ============== ==== ==== ======= ===== ====================\n",
            "    sepal length:   4.3  7.9   5.84   0.83    0.7826\n",
            "    sepal width:    2.0  4.4   3.05   0.43   -0.4194\n",
            "    petal length:   1.0  6.9   3.76   1.76    0.9490  (high!)\n",
            "    petal width:    0.1  2.5   1.20   0.76    0.9565  (high!)\n",
            "    ============== ==== ==== ======= ===== ====================\n",
            "\n",
            "    :Missing Attribute Values: None\n",
            "    :Class Distribution: 33.3% for each of 3 classes.\n",
            "    :Creator: R.A. Fisher\n",
            "    :Donor: Michael Marshall (MARSHALL%PLU@io.arc.nasa.gov)\n",
            "    :Date: July, 1988\n",
            "\n",
            "The famous Iris database, first used by Sir R.A. Fisher. The dataset is taken\n",
            "from Fisher's paper. Note that it's the same as in R, but not as in the UCI\n",
            "Machine Learning Repository, which has two wrong data points.\n",
            "\n",
            "This is perhaps the best known database to be found in the\n",
            "pattern recognition literature.  Fisher's paper is a classic in the field and\n",
            "is referenced frequently to this day.  (See Duda & Hart, for example.)  The\n",
            "data set contains 3 classes of 50 instances each, where each class refers to a\n",
            "type of iris plant.  One class is linearly separable from the other 2; the\n",
            "latter are NOT linearly separable from each other.\n",
            "\n",
            ".. topic:: References\n",
            "\n",
            "   - Fisher, R.A. \"The use of multiple measurements in taxonomic problems\"\n",
            "     Annual Eugenics, 7, Part II, 179-188 (1936); also in \"Contributions to\n",
            "     Mathematical Statistics\" (John Wiley, NY, 1950).\n",
            "   - Duda, R.O., & Hart, P.E. (1973) Pattern Classification and Scene Analysis.\n",
            "     (Q327.D83) John Wiley & Sons.  ISBN 0-471-22361-1.  See page 218.\n",
            "   - Dasarathy, B.V. (1980) \"Nosing Around the Neighborhood: A New System\n",
            "     Structure and Classification Rule for Recognition in Partially Exposed\n",
            "     Environments\".  IEEE Transactions on Pattern Analysis and Machine\n",
            "     Intelligence, Vol. PAMI-2, No. 1, 67-71.\n",
            "   - Gates, G.W. (1972) \"The Reduced Nearest Neighbor Rule\".  IEEE Transactions\n",
            "     on Information Theory, May 1972, 431-433.\n",
            "   - See also: 1988 MLC Proceedings, 54-64.  Cheeseman et al\"s AUTOCLASS II\n",
            "     conceptual clustering system finds 3 classes in the data.\n",
            "   - Many, many more ...\n"
          ]
        }
      ]
    },
    {
      "cell_type": "code",
      "metadata": {
        "id": "WOTYuCbhvTfx"
      },
      "source": [
        "# instanciando as variáveis explicativas e a variável alvo\n",
        "\n",
        "# variáveis explicativas\n",
        "X = iris.data[:, :2]  # iremos utilizar somente as duas primeiras colunas\n",
        "\n",
        "# variável resposta (alvo)\n",
        "y = iris.target"
      ],
      "execution_count": null,
      "outputs": []
    },
    {
      "cell_type": "code",
      "metadata": {
        "colab": {
          "base_uri": "https://localhost:8080/",
          "height": 308
        },
        "id": "HrTIcPYpvTUg",
        "outputId": "7f4ad11e-fcce-4a6c-b016-98f55ba7dc6f"
      },
      "source": [
        "# instanciando o SVM e ajustando os dados\n",
        "# não escalamos os dados, pois queremos plotar os vetores de suporte\n",
        "\n",
        "C = 1.0 # parâmetro de regularização do SVM\n",
        "\n",
        "models = (SVC(kernel='linear', C=C),\n",
        "          LinearSVC(C=C, max_iter=10_000),\n",
        "          SVC(kernel='rbf', gamma=0.7, C=C),\n",
        "          SVC(kernel='poly', degree=3, gamma='auto', C=C))\n",
        "\n",
        "models = (clf.fit(X, y) for clf in models)\n",
        "\n",
        "# título dos gráficos\n",
        "titles = ('\\nSVC com \\nkernel linear', \n",
        "           '\\nLinearSVC \\n(kernel linear)', \n",
        "           '\\nSVC \\ncom kernel RBF', \n",
        "           '\\nSVC \\ncom kernel polynomial (degree 3)')\n",
        "\n",
        "# configurando a grade de plotagem 2 por 2\n",
        "fig, sub = plt.subplots(2, 2)\n",
        "plt.subplots_adjust(wspace=0.8, hspace=0.8)\n",
        "\n",
        "X0, X1 = X[:, 0], X[:, 1]\n",
        "xx, yy = make_meshgrid(X0, X1)\n",
        "\n",
        "for clf, title, ax in zip(models, titles, sub.flatten()):\n",
        "    plot_contours(ax, clf, xx, yy,\n",
        "                  cmap=plt.cm.coolwarm, alpha=0.8)\n",
        "    ax.scatter(X0, X1, c=y, cmap=plt.cm.coolwarm, s=20, edgecolors='k')\n",
        "    ax.set_xlim(xx.min(), xx.max())\n",
        "    ax.set_ylim(yy.min(), yy.max())\n",
        "    ax.set_xlabel('Sepal length')\n",
        "    ax.set_ylabel('Sepal width')\n",
        "    ax.set_xticks(())\n",
        "    ax.set_yticks(())\n",
        "    ax.set_title(title)\n",
        "\n",
        "plt.show();"
      ],
      "execution_count": null,
      "outputs": [
        {
          "output_type": "display_data",
          "data": {
            "image/png": "[encoded data removed]",
            "text/plain": [
              "<Figure size 432x288 with 4 Axes>"
            ]
          },
          "metadata": {}
        }
      ]
    },
    {
      "cell_type": "markdown",
      "metadata": {
        "id": "bFcEysckRjTy"
      },
      "source": [
        "## <font color='green'>**wine**</font>"
      ]
    },
    {
      "cell_type": "code",
      "metadata": {
        "colab": {
          "base_uri": "https://localhost:8080/"
        },
        "id": "OwJLW-g6Dt-B",
        "outputId": "65571b0f-1fd2-4d10-ae82-1a8cb5a022f2"
      },
      "source": [
        "from sklearn.datasets import load_wine  # importando o conjunto de dados\n",
        "\n",
        "# instanciando o conjunto de dados\n",
        "wine = load_wine()\n",
        "\n",
        "# visualizando informações gerais sobre o conjunto de dados\n",
        "print(wine.DESCR)"
      ],
      "execution_count": null,
      "outputs": [
        {
          "output_type": "stream",
          "name": "stdout",
          "text": [
            ".. _wine_dataset:\n",
            "\n",
            "Wine recognition dataset\n",
            "------------------------\n",
            "\n",
            "**Data Set Characteristics:**\n",
            "\n",
            "    :Number of Instances: 178 (50 in each of three classes)\n",
            "    :Number of Attributes: 13 numeric, predictive attributes and the class\n",
            "    :Attribute Information:\n",
            " \t\t- Alcohol\n",
            " \t\t- Malic acid\n",
            " \t\t- Ash\n",
            "\t\t- Alcalinity of ash  \n",
            " \t\t- Magnesium\n",
            "\t\t- Total phenols\n",
            " \t\t- Flavanoids\n",
            " \t\t- Nonflavanoid phenols\n",
            " \t\t- Proanthocyanins\n",
            "\t\t- Color intensity\n",
            " \t\t- Hue\n",
            " \t\t- OD280/OD315 of diluted wines\n",
            " \t\t- Proline\n",
            "\n",
            "    - class:\n",
            "            - class_0\n",
            "            - class_1\n",
            "            - class_2\n",
            "\t\t\n",
            "    :Summary Statistics:\n",
            "    \n",
            "    ============================= ==== ===== ======= =====\n",
            "                                   Min   Max   Mean     SD\n",
            "    ============================= ==== ===== ======= =====\n",
            "    Alcohol:                      11.0  14.8    13.0   0.8\n",
            "    Malic Acid:                   0.74  5.80    2.34  1.12\n",
            "    Ash:                          1.36  3.23    2.36  0.27\n",
            "    Alcalinity of Ash:            10.6  30.0    19.5   3.3\n",
            "    Magnesium:                    70.0 162.0    99.7  14.3\n",
            "    Total Phenols:                0.98  3.88    2.29  0.63\n",
            "    Flavanoids:                   0.34  5.08    2.03  1.00\n",
            "    Nonflavanoid Phenols:         0.13  0.66    0.36  0.12\n",
            "    Proanthocyanins:              0.41  3.58    1.59  0.57\n",
            "    Colour Intensity:              1.3  13.0     5.1   2.3\n",
            "    Hue:                          0.48  1.71    0.96  0.23\n",
            "    OD280/OD315 of diluted wines: 1.27  4.00    2.61  0.71\n",
            "    Proline:                       278  1680     746   315\n",
            "    ============================= ==== ===== ======= =====\n",
            "\n",
            "    :Missing Attribute Values: None\n",
            "    :Class Distribution: class_0 (59), class_1 (71), class_2 (48)\n",
            "    :Creator: R.A. Fisher\n",
            "    :Donor: Michael Marshall (MARSHALL%PLU@io.arc.nasa.gov)\n",
            "    :Date: July, 1988\n",
            "\n",
            "This is a copy of UCI ML Wine recognition datasets.\n",
            "https://archive.ics.uci.edu/ml/machine-learning-databases/wine/wine.data\n",
            "\n",
            "The data is the results of a chemical analysis of wines grown in the same\n",
            "region in Italy by three different cultivators. There are thirteen different\n",
            "measurements taken for different constituents found in the three types of\n",
            "wine.\n",
            "\n",
            "Original Owners: \n",
            "\n",
            "Forina, M. et al, PARVUS - \n",
            "An Extendible Package for Data Exploration, Classification and Correlation. \n",
            "Institute of Pharmaceutical and Food Analysis and Technologies,\n",
            "Via Brigata Salerno, 16147 Genoa, Italy.\n",
            "\n",
            "Citation:\n",
            "\n",
            "Lichman, M. (2013). UCI Machine Learning Repository\n",
            "[https://archive.ics.uci.edu/ml]. Irvine, CA: University of California,\n",
            "School of Information and Computer Science. \n",
            "\n",
            ".. topic:: References\n",
            "\n",
            "  (1) S. Aeberhard, D. Coomans and O. de Vel, \n",
            "  Comparison of Classifiers in High Dimensional Settings, \n",
            "  Tech. Rep. no. 92-02, (1992), Dept. of Computer Science and Dept. of  \n",
            "  Mathematics and Statistics, James Cook University of North Queensland. \n",
            "  (Also submitted to Technometrics). \n",
            "\n",
            "  The data was used with many others for comparing various \n",
            "  classifiers. The classes are separable, though only RDA \n",
            "  has achieved 100% correct classification. \n",
            "  (RDA : 100%, QDA 99.4%, LDA 98.9%, 1NN 96.1% (z-transformed data)) \n",
            "  (All results using the leave-one-out technique) \n",
            "\n",
            "  (2) S. Aeberhard, D. Coomans and O. de Vel, \n",
            "  \"THE CLASSIFICATION PERFORMANCE OF RDA\" \n",
            "  Tech. Rep. no. 92-01, (1992), Dept. of Computer Science and Dept. of \n",
            "  Mathematics and Statistics, James Cook University of North Queensland. \n",
            "  (Also submitted to Journal of Chemometrics).\n",
            "\n"
          ]
        }
      ]
    },
    {
      "cell_type": "code",
      "metadata": {
        "id": "sRoSM6NwDt7X"
      },
      "source": [
        "# instanciando as variáveis explicativas e a variável alvo\n",
        "\n",
        "# variáveis explicativas\n",
        "X = wine.data[:, :2]  # iremos utilizar somente as duas primeiras colunas\n",
        "\n",
        "# variável resposta (alvo)\n",
        "y = wine.target"
      ],
      "execution_count": null,
      "outputs": []
    },
    {
      "cell_type": "code",
      "metadata": {
        "id": "W3UcN8QrDt44",
        "colab": {
          "base_uri": "https://localhost:8080/",
          "height": 308
        },
        "outputId": "47157bb0-f5eb-437d-b797-aa4baf26f145"
      },
      "source": [
        "# instanciando o SVM e ajustando os dados\n",
        "# não escalamos os dados, pois queremos plotar os vetores de suporte\n",
        "\n",
        "C = 1.0 # parâmetro de regularização do SVM\n",
        "\n",
        "models = (SVC(kernel='linear', C=C),\n",
        "          LinearSVC(C=C, max_iter=10_000),\n",
        "          SVC(kernel='rbf', gamma=0.7, C=C),\n",
        "          SVC(kernel='poly', degree=3, gamma='auto', C=C))\n",
        "\n",
        "models = (clf.fit(X, y) for clf in models)\n",
        "\n",
        "# título dos gráficos\n",
        "titles = ('\\nSVC com \\nkernel linear', \n",
        "           '\\nLinearSVC \\n(kernel linear)', \n",
        "           '\\nSVC \\ncom kernel RBF', \n",
        "           '\\nSVC \\ncom kernel polynomial (degree 3)')\n",
        "\n",
        "# configurando a grade de plotagem 2 por 2\n",
        "fig, sub = plt.subplots(2, 2)\n",
        "plt.subplots_adjust(wspace=0.8, hspace=0.8)\n",
        "\n",
        "X0, X1 = X[:, 0], X[:, 1]\n",
        "xx, yy = make_meshgrid(X0, X1)\n",
        "\n",
        "for clf, title, ax in zip(models, titles, sub.flatten()):\n",
        "    plot_contours(ax, clf, xx, yy,\n",
        "                  cmap=plt.cm.coolwarm, alpha=0.8)\n",
        "    ax.scatter(X0, X1, c=y, cmap=plt.cm.coolwarm, s=20, edgecolors='k')\n",
        "    ax.set_xlim(xx.min(), xx.max())\n",
        "    ax.set_ylim(yy.min(), yy.max())\n",
        "    ax.set_xlabel('Alcohol')\n",
        "    ax.set_ylabel('Malic acid')\n",
        "    ax.set_xticks(())\n",
        "    ax.set_yticks(())\n",
        "    ax.set_title(title)\n",
        "\n",
        "plt.show();"
      ],
      "execution_count": null,
      "outputs": [
        {
          "output_type": "display_data",
          "data": {
            "image/png": "[encoded data removed]",
            "text/plain": [
              "<Figure size 432x288 with 4 Axes>"
            ]
          },
          "metadata": {}
        }
      ]
    },
    {
      "cell_type": "code",
      "metadata": {
        "id": "C9kcE_hZDt2g"
      },
      "source": [
        ""
      ],
      "execution_count": null,
      "outputs": []
    },
    {
      "cell_type": "code",
      "metadata": {
        "id": "_dIvGiWODt0N"
      },
      "source": [
        ""
      ],
      "execution_count": null,
      "outputs": []
    },
    {
      "cell_type": "code",
      "metadata": {
        "id": "3dG9eQ4MDtye"
      },
      "source": [
        ""
      ],
      "execution_count": null,
      "outputs": []
    },
    {
      "cell_type": "code",
      "metadata": {
        "id": "PfCadSxJDtxX"
      },
      "source": [
        ""
      ],
      "execution_count": null,
      "outputs": []
    },
    {
      "cell_type": "code",
      "metadata": {
        "id": "vbPlou23Dtv9"
      },
      "source": [
        ""
      ],
      "execution_count": null,
      "outputs": []
    },
    {
      "cell_type": "code",
      "metadata": {
        "id": "fEuWRp7IDtu5"
      },
      "source": [
        ""
      ],
      "execution_count": null,
      "outputs": []
    },
    {
      "cell_type": "code",
      "metadata": {
        "id": "nDNU3VKrDtrr"
      },
      "source": [
        ""
      ],
      "execution_count": null,
      "outputs": []
    },
    {
      "cell_type": "code",
      "metadata": {
        "id": "CBwsO2xSDto6"
      },
      "source": [
        ""
      ],
      "execution_count": null,
      "outputs": []
    },
    {
      "cell_type": "code",
      "metadata": {
        "id": "mUPl-Lt6Dtnh"
      },
      "source": [
        ""
      ],
      "execution_count": null,
      "outputs": []
    },
    {
      "cell_type": "code",
      "metadata": {
        "id": "ZrIhnsLkDtiZ"
      },
      "source": [
        ""
      ],
      "execution_count": null,
      "outputs": []
    }
  ]
}